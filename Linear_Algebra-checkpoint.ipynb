{
 "cells": [
  {
   "cell_type": "markdown",
   "id": "2342bd78",
   "metadata": {},
   "source": [
    "## Write Python code for addition, subtraction, multiplication, element-wise multiplication, determinant, the inverse of the matrix using NumPy and SciPy package. "
   ]
  },
  {
   "cell_type": "code",
   "execution_count": 1,
   "id": "4ebf0268",
   "metadata": {},
   "outputs": [
    {
     "name": "stdout",
     "output_type": "stream",
     "text": [
      "Matrix Addition:\n",
      " [[3 5]\n",
      " [7 9]]\n",
      "\n",
      "Matrix Subtraction:\n",
      " [[1 1]\n",
      " [1 1]]\n",
      "\n",
      "Matrix Multiplication:\n",
      " [[11 16]\n",
      " [19 28]]\n",
      "\n",
      "Element-wise Multiplication:\n",
      " [[ 2  6]\n",
      " [12 20]]\n",
      "\n",
      "Determinant of A: -2.0\n",
      "\n",
      "Inverse of A (NumPy):\n",
      " [[-2.5  1.5]\n",
      " [ 2.  -1. ]]\n",
      "\n",
      "Inverse of A (SciPy):\n",
      " [[-2.5  1.5]\n",
      " [ 2.  -1. ]]\n"
     ]
    }
   ],
   "source": [
    "import numpy as np\n",
    "from scipy import linalg\n",
    "\n",
    "# Define two matrices\n",
    "A = np.array([[2, 3], [4, 5]])\n",
    "B = np.array([[1, 2], [3, 4]])\n",
    "\n",
    "# Matrix Addition\n",
    "addition = A + B\n",
    "print(\"Matrix Addition:\\n\", addition)\n",
    "\n",
    "# Matrix Subtraction\n",
    "subtraction = A - B\n",
    "print(\"\\nMatrix Subtraction:\\n\", subtraction)\n",
    "\n",
    "# Matrix Multiplication (Dot Product)\n",
    "multiplication = np.dot(A, B)\n",
    "print(\"\\nMatrix Multiplication:\\n\", multiplication)\n",
    "\n",
    "# Element-wise Multiplication\n",
    "element_wise_multiplication = A * B\n",
    "print(\"\\nElement-wise Multiplication:\\n\", element_wise_multiplication)\n",
    "\n",
    "# Determinant of Matrix A\n",
    "det_A = np.linalg.det(A)\n",
    "print(\"\\nDeterminant of A:\", det_A)\n",
    "\n",
    "# Inverse of Matrix A (only if determinant is nonzero)\n",
    "if det_A != 0:\n",
    "    inverse_A = np.linalg.inv(A)  # Using NumPy\n",
    "    inverse_A_scipy = linalg.inv(A)  # Using SciPy\n",
    "    print(\"\\nInverse of A (NumPy):\\n\", inverse_A)\n",
    "    print(\"\\nInverse of A (SciPy):\\n\", inverse_A_scipy)\n",
    "else:\n",
    "    print(\"\\nMatrix A is singular, no inverse exists.\")\n"
   ]
  },
  {
   "cell_type": "markdown",
   "id": "ea7e23e5",
   "metadata": {},
   "source": [
    "## Write Python code to calculate eigenvalue and eigenvector of a matrix. Check the orthogonality of the eigenvector."
   ]
  },
  {
   "cell_type": "code",
   "execution_count": 2,
   "id": "b32f3918",
   "metadata": {},
   "outputs": [
    {
     "name": "stdout",
     "output_type": "stream",
     "text": [
      "Eigenvalues of A:\n",
      " [3. 2.]\n",
      "\n",
      "Eigenvectors of A:\n",
      " [[0.89442719 0.70710678]\n",
      " [0.4472136  0.70710678]]\n",
      "\n",
      "Eigenvector Orthogonality Check (should be identity matrix if orthonormal):\n",
      " [[1.        0.9486833]\n",
      " [0.9486833 1.       ]]\n",
      "\n",
      "Eigenvectors are NOT orthonormal.\n"
     ]
    }
   ],
   "source": [
    "import numpy as np\n",
    "\n",
    "# Define a matrix\n",
    "A = np.array([[4, -2], \n",
    "              [1, 1]])\n",
    "\n",
    "# Compute Eigenvalues and Eigenvectors\n",
    "eigenvalues, eigenvectors = np.linalg.eig(A)\n",
    "\n",
    "print(\"Eigenvalues of A:\\n\", eigenvalues)\n",
    "print(\"\\nEigenvectors of A:\\n\", eigenvectors)\n",
    "\n",
    "# Check Orthogonality: Eigenvectors should be mutually orthogonal\n",
    "orthogonality_check = np.dot(eigenvectors.T, eigenvectors)\n",
    "identity_matrix = np.eye(eigenvectors.shape[0])  # Create an identity matrix\n",
    "\n",
    "print(\"\\nEigenvector Orthogonality Check (should be identity matrix if orthonormal):\\n\", orthogonality_check)\n",
    "\n",
    "# If orthogonality_check is close to an identity matrix, the eigenvectors are orthogonal\n",
    "if np.allclose(orthogonality_check, identity_matrix):\n",
    "    print(\"\\nEigenvectors are orthonormal.\")\n",
    "else:\n",
    "    print(\"\\nEigenvectors are NOT orthonormal.\")\n"
   ]
  },
  {
   "cell_type": "markdown",
   "id": "a97bac44",
   "metadata": {},
   "source": [
    "## Calculate span and basis of a vector space using Python."
   ]
  },
  {
   "cell_type": "code",
   "execution_count": 3,
   "id": "a505f5ac",
   "metadata": {},
   "outputs": [
    {
     "name": "stdout",
     "output_type": "stream",
     "text": [
      "Original Vectors:\n",
      " [[1 2 3]\n",
      " [2 4 6]\n",
      " [3 6 9]]\n",
      "\n",
      "Basis of the Vector Space:\n",
      " [[ -3.74165739  -7.48331477 -11.22497216]]\n",
      "\n",
      "Span Matrix:\n",
      " [[-0.26726124 -0.53452248 -0.80178373]]\n"
     ]
    }
   ],
   "source": [
    "import numpy as np\n",
    "\n",
    "# Define a set of vectors (rows of matrix V)\n",
    "V = np.array([[1, 2, 3], \n",
    "              [2, 4, 6], \n",
    "              [3, 6, 9]])  # Linearly dependent vectors\n",
    "\n",
    "print(\"Original Vectors:\\n\", V)\n",
    "\n",
    "# Step 1: Perform Row Reduction (RREF) to Find Basis\n",
    "_, independent_vectors = np.linalg.qr(V)  # QR decomposition gives independent vectors\n",
    "\n",
    "# Step 2: Extract the linearly independent rows as the basis\n",
    "rank = np.linalg.matrix_rank(V)  # Find the number of independent vectors\n",
    "basis_vectors = independent_vectors[:rank, :]  # Select the first 'rank' vectors\n",
    "\n",
    "print(\"\\nBasis of the Vector Space:\\n\", basis_vectors)\n",
    "\n",
    "# Step 3: Span of the Vector Space (Linear Combinations)\n",
    "span_matrix = np.dot(np.linalg.inv(basis_vectors @ basis_vectors.T), basis_vectors @ V.T)\n",
    "\n",
    "print(\"\\nSpan Matrix:\\n\", span_matrix)\n"
   ]
  },
  {
   "cell_type": "code",
   "execution_count": null,
   "id": "7fc871bf",
   "metadata": {},
   "outputs": [],
   "source": []
  },
  {
   "cell_type": "code",
   "execution_count": null,
   "id": "63c7dd59",
   "metadata": {},
   "outputs": [],
   "source": []
  }
 ],
 "metadata": {
  "kernelspec": {
   "display_name": "Python 3 (ipykernel)",
   "language": "python",
   "name": "python3"
  },
  "language_info": {
   "codemirror_mode": {
    "name": "ipython",
    "version": 3
   },
   "file_extension": ".py",
   "mimetype": "text/x-python",
   "name": "python",
   "nbconvert_exporter": "python",
   "pygments_lexer": "ipython3",
   "version": "3.11.4"
  }
 },
 "nbformat": 4,
 "nbformat_minor": 5
}
